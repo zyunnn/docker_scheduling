{
 "cells": [
  {
   "cell_type": "markdown",
   "metadata": {},
   "source": [
    "# 1. Service Registration "
   ]
  },
  {
   "cell_type": "markdown",
   "metadata": {},
   "source": [
    "### Docker "
   ]
  },
  {
   "cell_type": "code",
   "execution_count": 4,
   "metadata": {},
   "outputs": [],
   "source": [
    "import docker\n",
    "dockerClient = docker.from_env()\n",
    "dockerClient.images.pull('mysql:8.0.16')\n",
    "c = docker.APIClient(base_url='unix://var/run/docker.sock')"
   ]
  },
  {
   "cell_type": "code",
   "execution_count": 5,
   "metadata": {},
   "outputs": [],
   "source": [
    "import re \n",
    "\n",
    "# get container info\n",
    "def get_info(container):\n",
    "    service_name = c.inspect_container(container.id)['Name'] #service name\n",
    "    IP_address = c.inspect_container(container.id)['NetworkSettings']['Networks']['bridge']['IPAddress']\n",
    "    exposed_port = list(c.inspect_container(container.id)['Config']['ExposedPorts'].keys())[0]\n",
    "    port = re.findall('\\d+', exposed_port)[0]\n",
    "    return(service_name, IP_address, port)"
   ]
  },
  {
   "cell_type": "markdown",
   "metadata": {},
   "source": [
    "### MySQL database "
   ]
  },
  {
   "cell_type": "markdown",
   "metadata": {},
   "source": [
    "- Database: demo\n",
    "- Table: reg_container\n",
    "- Columns: \n",
    "    - last_check : last resgistered running time \n",
    "    - service    : service name      \n",
    "    - ip_address : IP Address        \n",
    "    - port_num      : exposed port      "
   ]
  },
  {
   "cell_type": "code",
   "execution_count": 26,
   "metadata": {},
   "outputs": [],
   "source": [
    "# connect to database\n",
    "import mysql.connector\n",
    "db = mysql.connector.connect(host='localhost',user='root',passwd='password',database='demo') \n",
    "cursor = db.cursor()"
   ]
  },
  {
   "cell_type": "code",
   "execution_count": null,
   "metadata": {},
   "outputs": [],
   "source": [
    "# create unique index\n",
    "create_index = \"CREATE UNIQUE INDEX index ON reg_container(service, ip_address, port_num)\"\n",
    "cursor.execute(create_index)"
   ]
  },
  {
   "cell_type": "code",
   "execution_count": 7,
   "metadata": {},
   "outputs": [],
   "source": [
    "from mysql.connector import Error\n",
    "from mysql.connector import errorcode\n",
    "\n",
    "def update_db():\n",
    "    try:\n",
    "        update_db_exec()\n",
    "    except Exception as e:\n",
    "        raise\n",
    "\n",
    "# update database \n",
    "# avoid duplicates\n",
    "def update_db_exec():\n",
    "    for container in dockerClient.containers.list():\n",
    "        count_sql = \"SELECT count(*) FROM reg_container WHERE service = %s AND ip_address = %s AND port_num = %s\"\n",
    "        val = get_info(container)\n",
    "        cursor.execute(count_sql, val)\n",
    "        count_entry = cursor.fetchone()[0]\n",
    "    \n",
    "        if count_entry == 0:\n",
    "            try:\n",
    "                insert_sql = \"INSERT INTO reg_container (last_check, service, ip_address, port_num) VALUES (NOW(), %s, %s, %s)\"\n",
    "                cursor.execute(insert_sql, val)\n",
    "                db.commit()\n",
    "                print(\"Insert record successfully\")\n",
    "            except Exception as e:\n",
    "                raise\n",
    "        else:\n",
    "            try:\n",
    "                update_sql = \"UPDATE reg_container SET last_check = NOW() WHERE service = %s AND ip_address = %s AND port_num = %s\"\n",
    "                cursor.execute(update_sql, val)\n",
    "                print(\"Update record successfully\")\n",
    "                db.commit()\n",
    "            except Exception as e:\n",
    "                raise"
   ]
  },
  {
   "cell_type": "markdown",
   "metadata": {},
   "source": [
    "## 2. Service Discovery "
   ]
  },
  {
   "cell_type": "markdown",
   "metadata": {},
   "source": [
    "Check running containers within specific time interval on database"
   ]
  },
  {
   "cell_type": "code",
   "execution_count": 13,
   "metadata": {},
   "outputs": [
    {
     "data": {
      "text/plain": [
       "['120.118.148.194:9000']"
      ]
     },
     "execution_count": 13,
     "metadata": {},
     "output_type": "execute_result"
    }
   ],
   "source": [
    "time_interval = 3 # hour\n",
    "\n",
    "# get ip address and port of active containers\n",
    "def check_service(service):\n",
    "    info = []\n",
    "    getservice_sql = \"SELECT ip_address, port_num FROM reg_container WHERE last_check > NOW() - INTERVAL %s HOUR AND service = %s\"\n",
    "    cursor.execute(getservice_sql,(time_interval,service,))\n",
    "    sql_result = cursor.fetchall() \n",
    "    \n",
    "    # reformat\n",
    "    for ip, port in sql_result:\n",
    "        info.append(\"{:s}:{:s}\".format(ip,port)) \n",
    "    return info\n",
    "\n",
    "check_service('/ans_generation')\n"
   ]
  },
  {
   "cell_type": "markdown",
   "metadata": {},
   "source": [
    "### Utility functions"
   ]
  },
  {
   "cell_type": "markdown",
   "metadata": {},
   "source": [
    "Background scheduler"
   ]
  },
  {
   "cell_type": "code",
   "execution_count": null,
   "metadata": {},
   "outputs": [],
   "source": [
    "import queue\n",
    "from apscheduler.schedulers.background import BackgroundScheduler\n",
    "from apscheduler.events import EVENT_JOB_EXECUTED, EVENT_JOB_ERROR, JobExecutionEvent\n",
    "\n",
    "update_interval = 5 # time interval for database update\n",
    "check_interval = 10 # time interval for service discovert\n",
    "\n",
    "# background scheduler \n",
    "sched = BackgroundScheduler()\n",
    "sched.add_job(check_service, 'interval', seconds=check_interval, id='check')\n",
    "sched.add_job(update_db, 'interval', seconds=update_interval, id='update')\n",
    "sched.start()"
   ]
  },
  {
   "cell_type": "code",
   "execution_count": null,
   "metadata": {},
   "outputs": [],
   "source": [
    "# force shutdown scheduler\n",
    "sched.shutdown(wait=False)"
   ]
  },
  {
   "cell_type": "markdown",
   "metadata": {},
   "source": [
    "Insert and delete entry"
   ]
  },
  {
   "cell_type": "code",
   "execution_count": null,
   "metadata": {},
   "outputs": [],
   "source": [
    "insert_val = ['/retrieval','168.212.226.204','7000']\n",
    "\n",
    "def insert_entry():\n",
    "    insert_sql = \"INSERT INTO reg_container (last_check,service,ip_address,port_num) VALUES (NOW(),%s,%s,%s)\"\n",
    "    cursor.execute(insert_sql, insert_val)\n",
    "    db.commit()\n",
    "    print(cursor.rowcount, 'new record(s)')\n",
    "    \n",
    "insert_entry()"
   ]
  },
  {
   "cell_type": "code",
   "execution_count": 569,
   "metadata": {},
   "outputs": [
    {
     "name": "stdout",
     "output_type": "stream",
     "text": [
      "0 record(s) deleted\n"
     ]
    }
   ],
   "source": [
    "delete_val = ('10.128.148.193',) \n",
    "\n",
    "def delete_entry():\n",
    "    delete_sql = \"DELETE FROM reg_container WHERE ip_address = %s AND service = '/intent_detection'\"\n",
    "    cursor.execute(delete_sql, delete_val)\n",
    "    db.commit()\n",
    "    print(cursor.rowcount, 'record(s) deleted')\n",
    "    \n",
    "delete_entry()"
   ]
  },
  {
   "cell_type": "markdown",
   "metadata": {},
   "source": [
    "## 3. Resources Allocation "
   ]
  },
  {
   "cell_type": "markdown",
   "metadata": {},
   "source": [
    "Normalization:\n",
    "- inverse execution time\n",
    "- normalize inversed time to base 500\n",
    "\n",
    "Task assignment:\n",
    "- random numbers generated follow uniform distribution"
   ]
  },
  {
   "cell_type": "code",
   "execution_count": 14,
   "metadata": {},
   "outputs": [],
   "source": [
    "import numpy as np\n",
    "\n",
    "scale_min = 0      # min value on new scale \n",
    "scale_max = 500    # max value on new scale\n",
    "\n",
    "# normalize total execution time\n",
    "# rescale according to processing speed of container\n",
    "def normalize(service_name):\n",
    "    active = check_service(service_name)\n",
    "    df = temp_df[['ip_port','exec_time']].loc[(temp_df.ip_port.isin(active))&(temp_df.service==service_name)]\n",
    "    d = dict(zip(df.ip_port, df.exec_time))\n",
    "    for val in d:\n",
    "        d[val] = np.reciprocal(float(d[val])) # processing speed\n",
    "        \n",
    "    rescale = float(scale_max/sum(d.values())) # scale factor\n",
    "    for val in d:\n",
    "        d[val] = d[val] * rescale\n",
    "    return d\n",
    "\n",
    "# assign task based on processing power of container\n",
    "def assign_request(service):\n",
    "    normalized = normalize(service)\n",
    "    assign_value = np.random.uniform(scale_min,scale_max,1) # uniform distribution\n",
    "    for key, value in sorted(normalized.items()): \n",
    "        assign_value -= value\n",
    "        if assign_value < 0:\n",
    "            return key"
   ]
  },
  {
   "cell_type": "markdown",
   "metadata": {},
   "source": [
    "## Demo 1, 2: Periodic Update "
   ]
  },
  {
   "cell_type": "code",
   "execution_count": 84,
   "metadata": {},
   "outputs": [
    {
     "name": "stdout",
     "output_type": "stream",
     "text": [
      "Update record successfully\n",
      "Update record successfully\n",
      "Update record successfully\n"
     ]
    }
   ],
   "source": [
    "import queue\n",
    "from apscheduler.schedulers.background import BackgroundScheduler\n",
    "from apscheduler.events import EVENT_JOB_EXECUTED, EVENT_JOB_ERROR, JobExecutionEvent\n",
    "\n",
    "# store ip_address and port info for all services in queue\n",
    "check_service_result = queue.Queue()\n",
    "\n",
    "# get return value of scheduled task\n",
    "def listener(event):\n",
    "    if event.retval is not None:\n",
    "        check_service_result.put(event.retval)\n",
    "        return check_service_result\n",
    "    else:\n",
    "        pass \n",
    "\n",
    "# scheduling task for periodic update\n",
    "s = BackgroundScheduler()\n",
    "s.add_job(check_service, 'interval', seconds=5, id='check')\n",
    "s.add_job(update_db, 'interval', seconds=10, id='update')\n",
    "s.add_listener(listener, EVENT_JOB_EXECUTED)\n",
    "s.start()"
   ]
  },
  {
   "cell_type": "code",
   "execution_count": 85,
   "metadata": {},
   "outputs": [],
   "source": [
    "# force shutdown\n",
    "s.shutdown(wait=False)"
   ]
  },
  {
   "cell_type": "code",
   "execution_count": null,
   "metadata": {},
   "outputs": [],
   "source": [
    "while check_service_result.empty() is not True:\n",
    "    print(check_service_result.get(), '\\n')"
   ]
  },
  {
   "cell_type": "markdown",
   "metadata": {},
   "source": [
    "## Demo 3: Assign Task"
   ]
  },
  {
   "cell_type": "markdown",
   "metadata": {},
   "source": [
    "### Pre-assignment\n",
    "Manually assign execution time of containers for testing \n",
    "- assign execution time with integer from 1-10"
   ]
  },
  {
   "cell_type": "code",
   "execution_count": 27,
   "metadata": {},
   "outputs": [],
   "source": [
    "import pandas as pd\n",
    "import random\n",
    "\n",
    "# get container info from existing database\n",
    "cursor.execute(\"SELECT service,ip_address,port_num FROM reg_container\")\n",
    "temp_df = pd.DataFrame(cursor.fetchall())\n",
    "temp_df.columns = cursor.column_names\n",
    "\n",
    "# reformat ip_address, port_num columns \n",
    "# assign individual execution time\n",
    "temp_df['ip_port'] = [\"{:s}:{:s}\".format(temp_df['ip_address'].iloc[i],temp_df['port_num'].iloc[i]) for i in range(len(temp_df))]\n",
    "temp_df['exec_time'] = [random.randint(1,10) for i in range(len(temp_df))]\n",
    "temp_df.drop(columns=['ip_address','port_num'], inplace=True)\n"
   ]
  },
  {
   "cell_type": "code",
   "execution_count": 28,
   "metadata": {},
   "outputs": [
    {
     "data": {
      "text/html": [
       "<div>\n",
       "<style scoped>\n",
       "    .dataframe tbody tr th:only-of-type {\n",
       "        vertical-align: middle;\n",
       "    }\n",
       "\n",
       "    .dataframe tbody tr th {\n",
       "        vertical-align: top;\n",
       "    }\n",
       "\n",
       "    .dataframe thead th {\n",
       "        text-align: right;\n",
       "    }\n",
       "</style>\n",
       "<table border=\"1\" class=\"dataframe\">\n",
       "  <thead>\n",
       "    <tr style=\"text-align: right;\">\n",
       "      <th></th>\n",
       "      <th>service</th>\n",
       "      <th>ip_port</th>\n",
       "      <th>exec_time</th>\n",
       "    </tr>\n",
       "  </thead>\n",
       "  <tbody>\n",
       "    <tr>\n",
       "      <th>0</th>\n",
       "      <td>/ans_generation</td>\n",
       "      <td>172.17.0.3:3306</td>\n",
       "      <td>1</td>\n",
       "    </tr>\n",
       "    <tr>\n",
       "      <th>6</th>\n",
       "      <td>/ans_generation</td>\n",
       "      <td>172.16.0.0:3360</td>\n",
       "      <td>5</td>\n",
       "    </tr>\n",
       "    <tr>\n",
       "      <th>7</th>\n",
       "      <td>/ans_generation</td>\n",
       "      <td>172.18.0.3:3360</td>\n",
       "      <td>4</td>\n",
       "    </tr>\n",
       "    <tr>\n",
       "      <th>8</th>\n",
       "      <td>/ans_generation</td>\n",
       "      <td>172.18.0.3:3370</td>\n",
       "      <td>7</td>\n",
       "    </tr>\n",
       "    <tr>\n",
       "      <th>14</th>\n",
       "      <td>/ans_generation</td>\n",
       "      <td>172.16.254.1:6000</td>\n",
       "      <td>10</td>\n",
       "    </tr>\n",
       "  </tbody>\n",
       "</table>\n",
       "</div>"
      ],
      "text/plain": [
       "            service            ip_port  exec_time\n",
       "0   /ans_generation    172.17.0.3:3306          1\n",
       "6   /ans_generation    172.16.0.0:3360          5\n",
       "7   /ans_generation    172.18.0.3:3360          4\n",
       "8   /ans_generation    172.18.0.3:3370          7\n",
       "14  /ans_generation  172.16.254.1:6000         10"
      ]
     },
     "execution_count": 28,
     "metadata": {},
     "output_type": "execute_result"
    }
   ],
   "source": [
    "temp_df[temp_df.service == '/ans_generation'].head()"
   ]
  },
  {
   "cell_type": "markdown",
   "metadata": {},
   "source": [
    "## 1. Check Distribution for Task Scheduling\n",
    "- total running time: ensure resources are allocated equally\n",
    "- linear relationship: ensure resources are allocated according to individual container's processing power\n",
    "- exponential pattern: ensure resources are allocated according to individual container's executime time"
   ]
  },
  {
   "cell_type": "markdown",
   "metadata": {},
   "source": [
    "### Case 1: Single active container\n",
    "Assign 1000 requests to 1 container (by changing time_interval for check_service function)"
   ]
  },
  {
   "cell_type": "code",
   "execution_count": 39,
   "metadata": {},
   "outputs": [],
   "source": [
    "# check task count for single container\n",
    "# assume only 1 container is active\n",
    "\n",
    "def assign_to_one(service,num):\n",
    "    assignment = []\n",
    "    for i in range(num):\n",
    "        assignment.append(assign_request(service))\n",
    "    \n",
    "    active = check_service(service)\n",
    "    df = temp_df[['ip_port','exec_time']][(temp_df.ip_port.isin(active))&(temp_df.service==service)]\n",
    "    df['task_count'] = [int(assignment.count(i)) for i in df['ip_port']]\n",
    "\n",
    "    plt.figure(figsize=(4,3))\n",
    "    plt.title(service)\n",
    "    plt.bar(df['ip_port'], df['task_count'], color='orange')\n",
    "    plt.show()\n",
    "    \n",
    "    return df"
   ]
  },
  {
   "cell_type": "code",
   "execution_count": 40,
   "metadata": {},
   "outputs": [
    {
     "data": {
      "image/png": "[encoded data removed]",
      "text/plain": [
       "<Figure size 288x216 with 1 Axes>"
      ]
     },
     "metadata": {
      "needs_background": "light"
     },
     "output_type": "display_data"
    },
    {
     "data": {
      "image/png": "[encoded data removed]",
      "text/plain": [
       "<Figure size 288x216 with 1 Axes>"
      ]
     },
     "metadata": {
      "needs_background": "light"
     },
     "output_type": "display_data"
    },
    {
     "data": {
      "image/png": "[encoded data removed]",
      "text/plain": [
       "<Figure size 288x216 with 1 Axes>"
      ]
     },
     "metadata": {
      "needs_background": "light"
     },
     "output_type": "display_data"
    }
   ],
   "source": [
    "# assign all task to single active container\n",
    "# assum that only one container is active\n",
    "ans_gen = assign_to_one('/ans_generation',1000)\n",
    "intent_det = assign_to_one('/intent_detection',1000)\n",
    "retrieval = assign_to_one('/retrieval',1000)"
   ]
  },
  {
   "cell_type": "markdown",
   "metadata": {},
   "source": [
    "### Case 2: Small number of requests, multiple containers\n",
    "Assign 5 requests for each service (by changing time_interval for check_service function)"
   ]
  },
  {
   "cell_type": "code",
   "execution_count": 467,
   "metadata": {},
   "outputs": [
    {
     "name": "stdout",
     "output_type": "stream",
     "text": [
      "/ans_generation\n",
      "172.16.81.100:6000\n",
      "168.212.226.204:8080\n",
      "172.17.0.3:3306\n",
      "172.17.0.3:3306\n",
      "192.0.2.1:3060\n",
      " \n",
      "/intent_detection\n",
      "192.168.0.5:8080\n",
      "172.16.81.100:7700\n",
      "192.168.0.5:8080\n",
      "192.0.2.1:3060\n",
      "192.0.2.1:3060\n",
      " \n",
      "/retrieval\n",
      "192.168.0.5:3309\n",
      "10.118.148.190:7000\n",
      "10.128.148.193:3300\n",
      "10.118.148.190:7000\n",
      "10.118.148.190:7000\n",
      " \n"
     ]
    }
   ],
   "source": [
    "task_num = 5\n",
    "services = ['/ans_generation','/intent_detection','/retrieval']\n",
    "\n",
    "# assign tasks to all services\n",
    "for service in services:\n",
    "    print(service)\n",
    "    for i in range(task_num):\n",
    "        print(assign_request(service))\n",
    "    print(' ')"
   ]
  },
  {
   "cell_type": "markdown",
   "metadata": {},
   "source": [
    "### Case 3: Large number of requests, multiple containers\n",
    "Check total running time for each container (by changing time_interval for check_service function)"
   ]
  },
  {
   "cell_type": "code",
   "execution_count": 32,
   "metadata": {},
   "outputs": [],
   "source": [
    "import numpy as np\n",
    "import matplotlib.pyplot as plt\n",
    "\n",
    "# assign multiple tasks\n",
    "# check distribution of tasks assigned to respective container\n",
    "def assign_multiple(service,num):\n",
    "    assignment = []\n",
    "    for i in range(num):\n",
    "        assignment.append(assign_request(service))\n",
    "    \n",
    "    active = check_service(service)\n",
    "    df = temp_df[['ip_port','exec_time']][(temp_df.ip_port.isin(active))&(temp_df.service==service)]\n",
    "    df['task_count'] = [int(assignment.count(i)) for i in df['ip_port']]\n",
    "    df['total_time'] = [int(assignment.count(i)*df['exec_time'][df.ip_port==i].values) for i in df['ip_port']]\n",
    "\n",
    "    plt.figure(figsize=(4,3))\n",
    "    plt.title(service)\n",
    "    plt.bar(df['ip_port'], df['total_time'])\n",
    "    plt.show()\n",
    "    \n",
    "    return df"
   ]
  },
  {
   "cell_type": "code",
   "execution_count": 504,
   "metadata": {},
   "outputs": [
    {
     "data": {
      "image/png": "[encoded data removed]",
      "text/plain": [
       "<Figure size 288x216 with 1 Axes>"
      ]
     },
     "metadata": {
      "needs_background": "light"
     },
     "output_type": "display_data"
    },
    {
     "data": {
      "image/png": "[encoded data removed]",
      "text/plain": [
       "<Figure size 288x216 with 1 Axes>"
      ]
     },
     "metadata": {
      "needs_background": "light"
     },
     "output_type": "display_data"
    },
    {
     "data": {
      "image/png": "[encoded data removed]",
      "text/plain": [
       "<Figure size 288x216 with 1 Axes>"
      ]
     },
     "metadata": {
      "needs_background": "light"
     },
     "output_type": "display_data"
    }
   ],
   "source": [
    "# assign 1000 tasks for small number of containers\n",
    "# by changing time_interval for check_service function\n",
    "ans_gen = assign_multiple('/ans_generation',1000)\n",
    "intent_det = assign_multiple('/intent_detection',1000)\n",
    "retrieval = assign_multiple('/retrieval',1000)"
   ]
  },
  {
   "cell_type": "code",
   "execution_count": 512,
   "metadata": {},
   "outputs": [
    {
     "data": {
      "image/png": "[encoded data removed]",
      "text/plain": [
       "<Figure size 288x216 with 1 Axes>"
      ]
     },
     "metadata": {
      "needs_background": "light"
     },
     "output_type": "display_data"
    },
    {
     "data": {
      "image/png": "[encoded data removed]",
      "text/plain": [
       "<Figure size 288x216 with 1 Axes>"
      ]
     },
     "metadata": {
      "needs_background": "light"
     },
     "output_type": "display_data"
    },
    {
     "data": {
      "image/png": "[encoded data removed]",
      "text/plain": [
       "<Figure size 288x216 with 1 Axes>"
      ]
     },
     "metadata": {
      "needs_background": "light"
     },
     "output_type": "display_data"
    }
   ],
   "source": [
    "# assign tasks to all existing containers\n",
    "# by changing time_interval for check_service function\n",
    "ans_gen1 = assign_multiple('/ans_generation',1000)\n",
    "intent_det1 = assign_multiple('/intent_detection',1000)\n",
    "retrieval1 = assign_multiple('/retrieval',1000)"
   ]
  },
  {
   "cell_type": "markdown",
   "metadata": {},
   "source": [
    "## 2. Check for linear relationship (w.r.t normalised processing speed)\n"
   ]
  },
  {
   "cell_type": "markdown",
   "metadata": {},
   "source": [
    "### Case 1: Overview distribution"
   ]
  },
  {
   "cell_type": "code",
   "execution_count": 478,
   "metadata": {},
   "outputs": [],
   "source": [
    "# plot tasks assigned w.r.t to processing speed\n",
    "# should show linear relationship\n",
    "# processing speed is rescaled for aid of visualization\n",
    "def linear_check(df,title):\n",
    "    ind = np.arange(len(df))\n",
    "    width = 0.3\n",
    "    multiple = df['exec_time'].apply(lambda x: 500*np.reciprocal(float(x)))\n",
    "    \n",
    "    fig, ax = plt.subplots()\n",
    "    bar1 = ax.bar(ind,multiple,width)\n",
    "    bar2 = ax.bar(ind+width,df['task_count'],width)\n",
    "    ax.legend((bar1[0],bar2[0]),('Normalized processing speed','Task count'))\n",
    "    ax.set_title(title)\n",
    "    plt.show()"
   ]
  },
  {
   "cell_type": "code",
   "execution_count": 505,
   "metadata": {},
   "outputs": [
    {
     "data": {
      "image/png": "[encoded data removed]",
      "text/plain": [
       "<Figure size 432x288 with 1 Axes>"
      ]
     },
     "metadata": {
      "needs_background": "light"
     },
     "output_type": "display_data"
    },
    {
     "data": {
      "image/png": "[encoded data removed]",
      "text/plain": [
       "<Figure size 432x288 with 1 Axes>"
      ]
     },
     "metadata": {
      "needs_background": "light"
     },
     "output_type": "display_data"
    },
    {
     "data": {
      "image/png": "[encoded data removed]",
      "text/plain": [
       "<Figure size 432x288 with 1 Axes>"
      ]
     },
     "metadata": {
      "needs_background": "light"
     },
     "output_type": "display_data"
    }
   ],
   "source": [
    "# check for linear relationship\n",
    "linear_check(ans_gen, services[0])\n",
    "linear_check(intent_det, services[1])\n",
    "linear_check(retrieval, services[2])"
   ]
  },
  {
   "cell_type": "markdown",
   "metadata": {},
   "source": [
    "### Case 2: Detailed distribution"
   ]
  },
  {
   "cell_type": "code",
   "execution_count": 576,
   "metadata": {},
   "outputs": [],
   "source": [
    "# check task count ratio of 3 active containers in 'ans_generation'\n",
    "active =['172.17.0.3:3306','172.16.0.0:3360','172.18.0.3:3370']\n",
    "\n",
    "def normalize3(service_name):\n",
    "    df = temp_df[['ip_port','exec_time']].loc[(temp_df.ip_port.isin(active))&(temp_df.service==service_name)]\n",
    "    d = dict(zip(df.ip_port, df.exec_time))\n",
    "    for val in d:\n",
    "        d[val] = np.reciprocal(float(d[val])) # processing speed\n",
    "        \n",
    "    rescale = float(scale_max/sum(d.values())) # scale factor\n",
    "    for val in d:\n",
    "        d[val] = d[val] * rescale\n",
    "    return d\n",
    "\n",
    "\n",
    "def assign3(service):\n",
    "    normalized = test_normalize(service)\n",
    "    assign_value = np.random.uniform(scale_min,scale_max,1) # uniform distribution\n",
    "    for key, value in sorted(normalized.items()): \n",
    "        assign_value -= value\n",
    "        if assign_value < 0:\n",
    "            return key\n",
    "        \n",
    "\n",
    "def test3(service,num):\n",
    "    assignment = []\n",
    "    for i in range(num):\n",
    "        assignment.append(test_assign(service))\n",
    "    \n",
    "    df = temp_df[['ip_port','exec_time']][(temp_df.ip_port.isin(active))&(temp_df.service==service)]\n",
    "    df['task_count'] = [int(assignment.count(i)) for i in df['ip_port']]\n",
    "    df['total_time'] = [int(assignment.count(i)*df['exec_time'][df.ip_port==i].values) for i in df['ip_port']]\n",
    "\n",
    "    plt.figure(figsize=(4,3))\n",
    "    plt.title(service)\n",
    "    plt.bar(df['ip_port'], df['total_time'])\n",
    "    plt.show()\n",
    "    \n",
    "    return df"
   ]
  },
  {
   "cell_type": "code",
   "execution_count": 577,
   "metadata": {},
   "outputs": [
    {
     "data": {
      "image/png": "[encoded data removed]",
      "text/plain": [
       "<Figure size 288x216 with 1 Axes>"
      ]
     },
     "metadata": {
      "needs_background": "light"
     },
     "output_type": "display_data"
    },
    {
     "data": {
      "text/html": [
       "<div>\n",
       "<style scoped>\n",
       "    .dataframe tbody tr th:only-of-type {\n",
       "        vertical-align: middle;\n",
       "    }\n",
       "\n",
       "    .dataframe tbody tr th {\n",
       "        vertical-align: top;\n",
       "    }\n",
       "\n",
       "    .dataframe thead th {\n",
       "        text-align: right;\n",
       "    }\n",
       "</style>\n",
       "<table border=\"1\" class=\"dataframe\">\n",
       "  <thead>\n",
       "    <tr style=\"text-align: right;\">\n",
       "      <th></th>\n",
       "      <th>ip_port</th>\n",
       "      <th>exec_time</th>\n",
       "      <th>task_count</th>\n",
       "      <th>total_time</th>\n",
       "    </tr>\n",
       "  </thead>\n",
       "  <tbody>\n",
       "    <tr>\n",
       "      <th>0</th>\n",
       "      <td>172.17.0.3:3306</td>\n",
       "      <td>1</td>\n",
       "      <td>595</td>\n",
       "      <td>595</td>\n",
       "    </tr>\n",
       "    <tr>\n",
       "      <th>6</th>\n",
       "      <td>172.16.0.0:3360</td>\n",
       "      <td>2</td>\n",
       "      <td>274</td>\n",
       "      <td>548</td>\n",
       "    </tr>\n",
       "    <tr>\n",
       "      <th>8</th>\n",
       "      <td>172.18.0.3:3370</td>\n",
       "      <td>5</td>\n",
       "      <td>131</td>\n",
       "      <td>655</td>\n",
       "    </tr>\n",
       "  </tbody>\n",
       "</table>\n",
       "</div>"
      ],
      "text/plain": [
       "           ip_port  exec_time  task_count  total_time\n",
       "0  172.17.0.3:3306          1         595         595\n",
       "6  172.16.0.0:3360          2         274         548\n",
       "8  172.18.0.3:3370          5         131         655"
      ]
     },
     "execution_count": 577,
     "metadata": {},
     "output_type": "execute_result"
    }
   ],
   "source": [
    "# container task_count should have linear relationship with its exec_time\n",
    "test3(services[0], 1000)"
   ]
  },
  {
   "cell_type": "markdown",
   "metadata": {},
   "source": [
    "## 3. Check for exponential pattern (w.r.t execution time)"
   ]
  },
  {
   "cell_type": "code",
   "execution_count": 566,
   "metadata": {},
   "outputs": [],
   "source": [
    "from scipy.optimize import curve_fit\n",
    "\n",
    "# exponential decay function\n",
    "def func(x, a, k, b):\n",
    "    return a * np.exp(-k*x) + b\n",
    "\n",
    "# plot tasks assigned w.r.t. execution time \n",
    "# should fit exponential decay graph\n",
    "def exponential_check(df,title):\n",
    "    x = df['exec_time']\n",
    "    y = df['task_count']\n",
    "    trialX = np.linspace(x.iloc[0], x.iloc[-1], 100)\n",
    "    coef, pcov = curve_fit(func, x, y)\n",
    "    print(coef)\n",
    "    yEXP = func(trialX,*coef)\n",
    "\n",
    "    plt.figure()\n",
    "    plt.scatter(x, y, label='Data', marker='o')\n",
    "    plt.plot(trialX, yEXP, 'r-',ls='--', label=\"Exp Fit\")\n",
    "    plt.title(title)\n",
    "    plt.legend()\n",
    "    plt.show()"
   ]
  },
  {
   "cell_type": "code",
   "execution_count": 567,
   "metadata": {},
   "outputs": [
    {
     "name": "stdout",
     "output_type": "stream",
     "text": [
      "[421.5513561    0.69316008  26.53110572]\n"
     ]
    },
    {
     "name": "stderr",
     "output_type": "stream",
     "text": [
      "/Users/zhiyun.yap/anaconda3/lib/python3.7/site-packages/ipykernel_launcher.py:5: RuntimeWarning: overflow encountered in exp\n",
      "  \"\"\"\n"
     ]
    },
    {
     "data": {
      "image/png": "[encoded data removed]",
      "text/plain": [
       "<Figure size 432x288 with 1 Axes>"
      ]
     },
     "metadata": {
      "needs_background": "light"
     },
     "output_type": "display_data"
    }
   ],
   "source": [
    "# check for exponential graph\n",
    "exponential_check(ans_gen1, services[0])"
   ]
  }
 ],
 "metadata": {
  "kernelspec": {
   "display_name": "Python 3",
   "language": "python",
   "name": "python3"
  },
  "language_info": {
   "codemirror_mode": {
    "name": "ipython",
    "version": 3
   },
   "file_extension": ".py",
   "mimetype": "text/x-python",
   "name": "python",
   "nbconvert_exporter": "python",
   "pygments_lexer": "ipython3",
   "version": "3.7.3"
  }
 },
 "nbformat": 4,
 "nbformat_minor": 2
}
